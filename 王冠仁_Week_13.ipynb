{
  "nbformat": 4,
  "nbformat_minor": 0,
  "metadata": {
    "colab": {
      "name": "王冠仁-Week 13.ipynb",
      "provenance": [],
      "authorship_tag": "ABX9TyPyQs6rvZezDqJmJK98WThD",
      "include_colab_link": true
    },
    "kernelspec": {
      "name": "python3",
      "display_name": "Python 3"
    }
  },
  "cells": [
    {
      "cell_type": "markdown",
      "metadata": {
        "id": "view-in-github",
        "colab_type": "text"
      },
      "source": [
        "<a href=\"https://colab.research.google.com/github/starkwang914/Computational-Thinking/blob/master/%E7%8E%8B%E5%86%A0%E4%BB%81_Week_13.ipynb\" target=\"_parent\"><img src=\"https://colab.research.google.com/assets/colab-badge.svg\" alt=\"Open In Colab\"/></a>"
      ]
    },
    {
      "cell_type": "code",
      "metadata": {
        "colab": {
          "base_uri": "https://localhost:8080/"
        },
        "id": "ZEzILP3Yji7B",
        "outputId": "4dc379a5-866d-4378-a8d1-c88481143f11"
      },
      "source": [
        "#印出5個Hello\r\n",
        "for i in range(0,5,1):\r\n",
        "  print('Hello')"
      ],
      "execution_count": 3,
      "outputs": [
        {
          "output_type": "stream",
          "text": [
            "Hello\n",
            "Hello\n",
            "Hello\n",
            "Hello\n",
            "Hello\n"
          ],
          "name": "stdout"
        }
      ]
    },
    {
      "cell_type": "code",
      "metadata": {
        "colab": {
          "base_uri": "https://localhost:8080/"
        },
        "id": "AioQQD5OjvCl",
        "outputId": "24b92cf5-2d8c-4a9b-fd2a-023472d9f8ae"
      },
      "source": [
        "#[100,97,94,91]\r\n",
        "for i in range(100,90,-3):\r\n",
        "  print(i)"
      ],
      "execution_count": 4,
      "outputs": [
        {
          "output_type": "stream",
          "text": [
            "100\n",
            "97\n",
            "94\n",
            "91\n"
          ],
          "name": "stdout"
        }
      ]
    },
    {
      "cell_type": "code",
      "metadata": {
        "colab": {
          "base_uri": "https://localhost:8080/"
        },
        "id": "hH6aSoHHlRMR",
        "outputId": "908c2c21-9267-4053-860f-88e6a0f7071a"
      },
      "source": [
        "#數字1到10之和\r\n",
        "##1+2+3+4+5+6+7+8+9+10=?\r\n",
        "sum=0 #起始條件\r\n",
        "for i in range(1,11,1):#數字串列[1,2,3,4,5,6,7,8,9,10]\r\n",
        "  sum=sum+i #加總運算，變更條件\r\n",
        "print('Total is',sum)"
      ],
      "execution_count": 8,
      "outputs": [
        {
          "output_type": "stream",
          "text": [
            "Total is 55\n"
          ],
          "name": "stdout"
        }
      ]
    },
    {
      "cell_type": "code",
      "metadata": {
        "colab": {
          "base_uri": "https://localhost:8080/"
        },
        "id": "j66kcEkTs0wr",
        "outputId": "8e7dee7c-3974-4719-bbd6-f43ca0e123b3"
      },
      "source": [
        "sum=0\r\n",
        "for i in range(3,13,3):\r\n",
        "  sum=sum+i\r\n",
        "print('Total is',sum) "
      ],
      "execution_count": 14,
      "outputs": [
        {
          "output_type": "stream",
          "text": [
            "Total is 30\n"
          ],
          "name": "stdout"
        }
      ]
    },
    {
      "cell_type": "code",
      "metadata": {
        "colab": {
          "base_uri": "https://localhost:8080/"
        },
        "id": "vFqh1H0WtcYi",
        "outputId": "b5cc28d0-243c-4727-dbe9-bb98fc054fcf"
      },
      "source": [
        "sum=0\r\n",
        "for i in range(1,6,1):\r\n",
        "  sum=sum+i**2\r\n",
        "print('Total is',sum)"
      ],
      "execution_count": 16,
      "outputs": [
        {
          "output_type": "stream",
          "text": [
            "Total is 55\n"
          ],
          "name": "stdout"
        }
      ]
    },
    {
      "cell_type": "code",
      "metadata": {
        "id": "whPBfyl8y0cD"
      },
      "source": [
        "start=int(input('請輸入加總開始值?'))\r\n",
        "end=int(input('請輸入加總終止值?'))\r\n",
        "step=int(input('請輸入遞增減值?'))\r\n",
        "sum=0\r\n",
        "for i in range(start,end,step):\r\n",
        "  sum=sum+i\r\n",
        "print('i為',i,'時','累加結果為',sum)"
      ],
      "execution_count": null,
      "outputs": []
    },
    {
      "cell_type": "code",
      "metadata": {
        "id": "gz1FiDs508nm"
      },
      "source": [
        ""
      ],
      "execution_count": null,
      "outputs": []
    }
  ]
}