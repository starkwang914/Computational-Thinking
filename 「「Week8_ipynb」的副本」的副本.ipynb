{
  "nbformat": 4,
  "nbformat_minor": 0,
  "metadata": {
    "colab": {
      "name": "「「Week8.ipynb」的副本」的副本",
      "provenance": [],
      "authorship_tag": "ABX9TyOMrCJN1DOnYQ1Mb2yKmEyU",
      "include_colab_link": true
    },
    "kernelspec": {
      "name": "python3",
      "display_name": "Python 3"
    }
  },
  "cells": [
    {
      "cell_type": "markdown",
      "metadata": {
        "id": "view-in-github",
        "colab_type": "text"
      },
      "source": [
        "<a href=\"https://colab.research.google.com/github/starkwang914/Computational-Thinking/blob/master/%E3%80%8C%E3%80%8CWeek8_ipynb%E3%80%8D%E7%9A%84%E5%89%AF%E6%9C%AC%E3%80%8D%E7%9A%84%E5%89%AF%E6%9C%AC.ipynb\" target=\"_parent\"><img src=\"https://colab.research.google.com/assets/colab-badge.svg\" alt=\"Open In Colab\"/></a>"
      ]
    },
    {
      "cell_type": "code",
      "metadata": {
        "id": "HI6nYzYxLeL6",
        "outputId": "5a55539d-c865-4fd4-bf3e-0a469e4f2129",
        "colab": {
          "base_uri": "https://localhost:8080/"
        }
      },
      "source": [
        "n=\"請問貴姓大名?\"\n",
        "a=\"請問您的年紀?\"\n",
        "w=\"請問您的體重?\"\n",
        "print(f\"你好 ，{n}\" )\n",
        "print(f\"Hello John.{a}\")\n",
        "print(f\"{w}\")"
      ],
      "execution_count": null,
      "outputs": [
        {
          "output_type": "stream",
          "text": [
            "你好 ，請問貴姓大名?\n",
            "Hello John.請問您的年紀?\n",
            "請問您的體重?\n"
          ],
          "name": "stdout"
        }
      ]
    },
    {
      "cell_type": "markdown",
      "metadata": {
        "id": "AABB8Sr0bi5C"
      },
      "source": [
        "習題一\n"
      ]
    },
    {
      "cell_type": "code",
      "metadata": {
        "id": "wMpCesfdbo_5",
        "outputId": "089bd612-c466-494a-fc2d-e018dfaa5f60",
        "colab": {
          "base_uri": "https://localhost:8080/"
        }
      },
      "source": [
        "cloth = int(input(\"請輸入上衣數量?\"))\n",
        "trousers = int(input(\"請輸入褲子數量?\"))\n",
        "vest = int(input(\"請輸入背心數量?\"))\n",
        "total = cloth*300 + trousers*350 + vest*400\n",
        "print(\"訂購服裝的總金額為\",total)"
      ],
      "execution_count": null,
      "outputs": [
        {
          "output_type": "stream",
          "text": [
            "請輸入上衣數量?3\n",
            "請輸入褲子數量?5\n",
            "請輸入背心數量?6\n",
            "訂購服裝的總金額為 5050\n"
          ],
          "name": "stdout"
        }
      ]
    },
    {
      "cell_type": "markdown",
      "metadata": {
        "id": "6LlCvNHCkkre"
      },
      "source": [
        "習題二"
      ]
    },
    {
      "cell_type": "code",
      "metadata": {
        "id": "TBiGoQF1knxU",
        "outputId": "0738511e-e092-407a-a127-c9dd3d76b998",
        "colab": {
          "base_uri": "https://localhost:8080/"
        }
      },
      "source": [
        "cans=int(input('請輸入購買飲料的罐數?'))\n",
        "total=(cans//12)*200+(cans%12)*20\n",
        "print('需花費',total)"
      ],
      "execution_count": null,
      "outputs": [
        {
          "output_type": "stream",
          "text": [
            "請輸入購買飲料的罐數?30\n",
            "需花費 520\n"
          ],
          "name": "stdout"
        }
      ]
    },
    {
      "cell_type": "markdown",
      "metadata": {
        "id": "cP59L8A6nH1O"
      },
      "source": [
        "習題三"
      ]
    },
    {
      "cell_type": "code",
      "metadata": {
        "id": "cUcL3uepnRz7",
        "outputId": "cfeeb34d-6488-43f9-edc9-e187a66b6e8b",
        "colab": {
          "base_uri": "https://localhost:8080/"
        }
      },
      "source": [
        "fir=int(input('請輸入第一次期中考成績?'))\n",
        "sec=int(input('請輸入第二次期中考成績?'))\n",
        "final=int(input('請輸入期末考成績?'))\n",
        "t=(fir+sec+final)\n",
        "a=t/3\n",
        "print('總分',t)\n",
        "print('平均',a)"
      ],
      "execution_count": null,
      "outputs": [
        {
          "output_type": "stream",
          "text": [
            "請輸入第一次期中考成績?75\n",
            "請輸入第二次期中考成績?80\n",
            "請輸入期末考成績?65\n",
            "總分 220\n",
            "平均 73.33333333333333\n"
          ],
          "name": "stdout"
        }
      ]
    }
  ]
}