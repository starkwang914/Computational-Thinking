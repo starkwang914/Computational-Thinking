{
  "nbformat": 4,
  "nbformat_minor": 0,
  "metadata": {
    "colab": {
      "name": "Week13.ipynb",
      "provenance": [],
      "authorship_tag": "ABX9TyPFZjZnqqICuCU0LmI+ZaBZ",
      "include_colab_link": true
    },
    "kernelspec": {
      "name": "python3",
      "display_name": "Python 3"
    }
  },
  "cells": [
    {
      "cell_type": "markdown",
      "metadata": {
        "id": "view-in-github",
        "colab_type": "text"
      },
      "source": [
        "<a href=\"https://colab.research.google.com/github/starkwang914/Computational-Thinking/blob/master/Week13.ipynb\" target=\"_parent\"><img src=\"https://colab.research.google.com/assets/colab-badge.svg\" alt=\"Open In Colab\"/></a>"
      ]
    },
    {
      "cell_type": "code",
      "metadata": {
        "colab": {
          "base_uri": "https://localhost:8080/"
        },
        "id": "OUdFI6zke6Nd",
        "outputId": "e2a1b2a1-1097-4efa-e053-352497300c90"
      },
      "source": [
        "#串列項目\r\n",
        "list5=['牛奶','蛋','咖啡豆','西瓜','鳳梨']\r\n",
        "print(list5)\r\n",
        "##索引\r\n",
        "print(list5[0])\r\n",
        "##變更\r\n",
        "list5[1]='皮蛋'\r\n",
        "print(list5)\r\n",
        "##切片\r\n",
        "print(list5[1:3])"
      ],
      "execution_count": 15,
      "outputs": [
        {
          "output_type": "stream",
          "text": [
            "['牛奶', '蛋', '咖啡豆', '西瓜', '鳳梨']\n",
            "牛奶\n",
            "['牛奶', '皮蛋', '咖啡豆', '西瓜', '鳳梨']\n",
            "['皮蛋', '咖啡豆']\n"
          ],
          "name": "stdout"
        }
      ]
    },
    {
      "cell_type": "code",
      "metadata": {
        "id": "bU7KBPKmhrEC",
        "colab": {
          "base_uri": "https://localhost:8080/"
        },
        "outputId": "83becec5-8119-4cb9-8f24-8da0aaa0810b"
      },
      "source": [
        "#籃球隊冠軍資訊\r\n",
        "season='1995-1996'\r\n",
        "team='Chicaco Bulls'\r\n",
        "coach='Phil Jackson'\r\n",
        "records=[72,10]\r\n",
        "starting=['Ron Harper','Michael Jordan','Scottie Pippen','Dennis Rodman','Luc Longley']\r\n",
        "champion=True\r\n",
        "#變數best_NBA 賦職串列\r\n",
        "best_NBA=list((season,team,coach,records,starting,champion))\r\n",
        "#TypeError:list expected at most 1 argument,got 6\r\n",
        "print(best_NBA)\r\n",
        "print(type(best_NBA))\r\n",
        "#indexing 索引\r\n",
        "print(best_NBA[-2])\r\n",
        "#slicing 切片\r\n",
        "print(best_NBA[1:4])\r\n",
        "#球季\r\n",
        "print(season)\r\n",
        "#隊名\r\n",
        "print(team)\r\n",
        "#總教練\r\n",
        "print(coach)"
      ],
      "execution_count": 10,
      "outputs": [
        {
          "output_type": "stream",
          "text": [
            "['1995-1996', 'Chicaco Bulls', 'Phil Jackson', [72, 10], ['Ron Harper', 'Michael Jordan', 'Scottie Pippen', 'Dennis Rodman', 'Luc Longley'], True]\n",
            "<class 'list'>\n",
            "['Ron Harper', 'Michael Jordan', 'Scottie Pippen', 'Dennis Rodman', 'Luc Longley']\n",
            "['Chicaco Bulls', 'Phil Jackson', [72, 10]]\n",
            "1995-1996\n",
            "Chicaco Bulls\n",
            "Phil Jackson\n"
          ],
          "name": "stdout"
        }
      ]
    },
    {
      "cell_type": "code",
      "metadata": {
        "colab": {
          "base_uri": "https://localhost:8080/"
        },
        "id": "nTUFztBOn7gj",
        "outputId": "38f68934-ad76-4847-e5b2-9f0643b8efc1"
      },
      "source": [
        "#[0,1,2,3,4]\r\n",
        "a=range(5)#range(0,5,1)\r\n",
        "print(a)\r\n",
        "range(0,5)\r\n",
        "print(a[0],a[1],a[2],a[3],a[4])\r\n",
        "#[2,3,4,5]\r\n",
        "b=range(2,6)#range(2,6,1)\r\n",
        "print(b[0],b[1],b[2],b[3])\r\n",
        "#[2,5,8]\r\n",
        "c=range(2,10,3)\r\n",
        "#[10,8,6,4]\r\n",
        "d=range(10,3,-2)\r\n",
        "print(d[0],d[1],d[2],d[3])"
      ],
      "execution_count": 13,
      "outputs": [
        {
          "output_type": "stream",
          "text": [
            "range(0, 5)\n",
            "0 1 2 3 4\n",
            "2 3 4 5\n",
            "10 8 6 4\n"
          ],
          "name": "stdout"
        }
      ]
    },
    {
      "cell_type": "code",
      "metadata": {
        "id": "xO2NUvxBqBFp"
      },
      "source": [
        "#分組作業\r\n",
        "project_title='今天要吃甚麼?'\r\n",
        "name_list=['莊芷俞','林諭辰','陳瑾琦','陳姵蓉','劉宏望','邱柏睿','王冠仁']\r\n",
        "number_list=['A109260009','A109260041','A109260051','A109260063','A109260065','A109260047','A109260075']\r\n",
        "dust_list=['查資料','報告','做簡報','排版','查資料','報告','做簡報']\r\n",
        "load_list=['10','10','10','10','10','10','10']\r\n",
        "#組長=莊芷俞"
      ],
      "execution_count": 17,
      "outputs": []
    }
  ]
}
