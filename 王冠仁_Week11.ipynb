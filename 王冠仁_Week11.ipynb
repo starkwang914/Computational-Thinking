{
  "nbformat": 4,
  "nbformat_minor": 0,
  "metadata": {
    "colab": {
      "name": "王冠仁-Week11.ipynb",
      "provenance": [],
      "collapsed_sections": [],
      "authorship_tag": "ABX9TyOipqOCU41NBEOAYlCZ7uDK",
      "include_colab_link": true
    },
    "kernelspec": {
      "name": "python3",
      "display_name": "Python 3"
    }
  },
  "cells": [
    {
      "cell_type": "markdown",
      "metadata": {
        "id": "view-in-github",
        "colab_type": "text"
      },
      "source": [
        "<a href=\"https://colab.research.google.com/github/starkwang914/Computational-Thinking/blob/master/%E7%8E%8B%E5%86%A0%E4%BB%81_Week11.ipynb\" target=\"_parent\"><img src=\"https://colab.research.google.com/assets/colab-badge.svg\" alt=\"Open In Colab\"/></a>"
      ]
    },
    {
      "cell_type": "markdown",
      "metadata": {
        "id": "GQNnPaRMaoNQ"
      },
      "source": [
        "分組"
      ]
    },
    {
      "cell_type": "code",
      "metadata": {
        "colab": {
          "base_uri": "https://localhost:8080/"
        },
        "id": "YMZRYlYtarZ_",
        "outputId": "e3cd4c93-d73a-480d-cf8a-dbc1d9cb0503"
      },
      "source": [
        "#商數餘數\n",
        "##Input\n",
        "seat=input(\"Enter a seat number?\")\n",
        "seat=int(seat)\n",
        "##Process\n",
        "group=(seat-1)//5+1\n",
        "##Output\n",
        "print(\"Group is\",group)"
      ],
      "execution_count": null,
      "outputs": [
        {
          "output_type": "stream",
          "text": [
            "Enter a seat number?75\n",
            "Group is 15\n"
          ],
          "name": "stdout"
        }
      ]
    },
    {
      "cell_type": "code",
      "metadata": {
        "colab": {
          "base_uri": "https://localhost:8080/"
        },
        "id": "6OwcOWIWbzNh",
        "outputId": "fa0f92a4-07e0-43e9-9ea2-3052e3f29b7d"
      },
      "source": [
        "#四捨五入 無條件進位\n",
        "import math\n",
        "##Input\n",
        "seat=int(input(\"Enter a seat number?\"))\n",
        "##Process\n",
        "group=math.ceil(seat/5)\n",
        "##Output\n",
        "print(\"Group is\",group)"
      ],
      "execution_count": null,
      "outputs": [
        {
          "output_type": "stream",
          "text": [
            "Enter a seat number?75\n",
            "Group is 15\n"
          ],
          "name": "stdout"
        }
      ]
    },
    {
      "cell_type": "code",
      "metadata": {
        "id": "6_s8mj3xdoJQ",
        "colab": {
          "base_uri": "https://localhost:8080/"
        },
        "outputId": "d88bc2a1-4a24-46ad-af24-32191c499069"
      },
      "source": [
        "number=int(input(\"Enter a number?\"))\n",
        "if number%5==0:\n",
        "  print(\"Group is\",number//5)\n",
        "else:\n",
        "  print(\"Group is\",number//5+1)  "
      ],
      "execution_count": null,
      "outputs": [
        {
          "output_type": "stream",
          "text": [
            "Enter a number?75\n",
            "Group is 15\n"
          ],
          "name": "stdout"
        }
      ]
    },
    {
      "cell_type": "code",
      "metadata": {
        "id": "QagoFVgeo22A",
        "colab": {
          "base_uri": "https://localhost:8080/"
        },
        "outputId": "7848d7fa-7318-45f1-8ea3-0d8c3222d9b1"
      },
      "source": [
        "print(\"Hello.I am Zyxo 64. I am a chatbot\")\n",
        "print(\"I like animals and I love to talk about food\")\n",
        "name=input(\"What is your name?\")\n",
        "print(\"Hello\",name,\",nice to meet you\")\n",
        "year=input(\"I am not very good at dates. What is the year?\")\n",
        "print(\"Yes,I think that is corret. Thanks!\")\n",
        "myage=input(\"Can you guess my age?\")\n",
        "print(\"Yes you are right. I am \",myage)\n",
        "myage=int(myage)\n",
        "nyears=100-myage\n",
        "print(\"I will be 100 in \",nyears,\"years\")\n",
        "print(\"That will be the year\",int(year)+(nyears))\n",
        "print(\"I love chocolate and I also like trying out new kinds of food\")\n",
        "food=input(\"How about you? What is your favorite food? \")\n",
        "print(\"I like\", food, \"too.\")\n",
        "question=\"How often do you eat\"+food+\"?\"\n",
        "howoften=input(question)\n",
        "print(\"Interesting. I wonder if that is good for your health\")\n",
        "animal=input(\"My favorite animal is a giraffe. What is yours?\")\n",
        "print(animal,\"! I do not like them.\")\n",
        "print(\"I wonder if a\", animal, \"likes to eat\", food, \"?\")"
      ],
      "execution_count": null,
      "outputs": [
        {
          "output_type": "stream",
          "text": [
            "Hello.I am Zyxo 64. I am a chatbot\n",
            "I like animals and I love to talk about food\n",
            "What is your name?;王冠仁\n",
            "Hello 王冠仁 ,nice to meet you\n"
          ],
          "name": "stdout"
        }
      ]
    },
    {
      "cell_type": "code",
      "metadata": {
        "id": "NbVS2fN0u6Vr"
      },
      "source": [
        ""
      ],
      "execution_count": null,
      "outputs": []
    }
  ]
}