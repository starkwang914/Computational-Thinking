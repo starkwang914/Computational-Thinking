{
  "nbformat": 4,
  "nbformat_minor": 0,
  "metadata": {
    "colab": {
      "name": "Week 10-3.ipynb",
      "provenance": [],
      "authorship_tag": "ABX9TyMSw2NJvzWBDkGzzxIDlZ9R",
      "include_colab_link": true
    },
    "kernelspec": {
      "name": "python3",
      "display_name": "Python 3"
    }
  },
  "cells": [
    {
      "cell_type": "markdown",
      "metadata": {
        "id": "view-in-github",
        "colab_type": "text"
      },
      "source": [
        "<a href=\"https://colab.research.google.com/github/starkwang914/Computational-Thinking/blob/master/Week_10_3.ipynb\" target=\"_parent\"><img src=\"https://colab.research.google.com/assets/colab-badge.svg\" alt=\"Open In Colab\"/></a>"
      ]
    },
    {
      "cell_type": "code",
      "metadata": {
        "colab": {
          "base_uri": "https://localhost:8080/"
        },
        "id": "nQxstGsvrtTp",
        "outputId": "6fcb64c2-30c3-4f0e-fe4a-7ad97a7367a1"
      },
      "source": [
        "sn = int(input())\n",
        "g = sn/5\n",
        "import math\n",
        "g =math.ceil(sn/5)\n",
        "print(\"座號為\",sn,\"組別為\",g)"
      ],
      "execution_count": 2,
      "outputs": [
        {
          "output_type": "stream",
          "text": [
            "20\n",
            "座號為 20 組別為 4\n"
          ],
          "name": "stdout"
        }
      ]
    }
  ]
}